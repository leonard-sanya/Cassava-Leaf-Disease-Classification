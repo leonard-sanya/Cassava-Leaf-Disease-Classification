{
 "cells": [
  {
   "cell_type": "code",
   "execution_count": 1,
   "metadata": {
    "_cell_guid": "b1076dfc-b9ad-4769-8c92-a6c4dae69d19",
    "_uuid": "8f2839f25d086af736a60e9eeb907d3b93b6e0e5",
    "execution": {
     "iopub.execute_input": "2024-05-19T03:42:39.580201Z",
     "iopub.status.busy": "2024-05-19T03:42:39.579601Z",
     "iopub.status.idle": "2024-05-19T03:42:43.748154Z",
     "shell.execute_reply": "2024-05-19T03:42:43.747174Z",
     "shell.execute_reply.started": "2024-05-19T03:42:39.580168Z"
    }
   },
   "outputs": [],
   "source": [
    "# This Python 3 environment comes with many helpful analytics libraries installed\n",
    "# It is defined by the kaggle/python Docker image: https://github.com/kaggle/docker-python\n",
    "# For example, here's several helpful packages to load\n",
    "\n",
    "import numpy as np # linear algebra\n",
    "import pandas as pd # data processing, CSV file I/O (e.g. pd.read_csv)\n",
    "\n",
    "# Input data files are available in the read-only \"../input/\" directory\n",
    "# For example, running this (by clicking run or pressing Shift+Enter) will list all files under the input directory\n",
    "\n",
    "import os\n",
    "for dirname, _, filenames in os.walk('/kaggle/input'):\n",
    "    for filename in filenames:\n",
    "        print(os.path.join(dirname, filename))\n",
    "\n",
    "# You can write up to 20GB to the current directory (/kaggle/working/) that gets preserved as output when you create a version using \"Save & Run All\" \n",
    "# You can also write temporary files to /kaggle/temp/, but they won't be saved outside of the current session"
   ]
  },
  {
   "cell_type": "code",
   "execution_count": 2,
   "metadata": {
    "execution": {
     "iopub.execute_input": "2024-05-19T03:42:43.750344Z",
     "iopub.status.busy": "2024-05-19T03:42:43.749931Z",
     "iopub.status.idle": "2024-05-19T03:42:47.614837Z",
     "shell.execute_reply": "2024-05-19T03:42:47.613854Z",
     "shell.execute_reply.started": "2024-05-19T03:42:43.750316Z"
    }
   },
   "outputs": [],
   "source": [
    "#Imports\n",
    "import os\n",
    "import sys\n",
    "import glob\n",
    "import torch\n",
    "import timm\n",
    "import torchvision\n",
    "\n",
    "import numpy    as np\n",
    "import datetime as dt\n",
    "import torch.nn as nn\n",
    "import torch.nn.functional as F\n",
    "import matplotlib.pyplot   as plt\n",
    "\n",
    "from PIL               import Image\n",
    "from torch.utils.data  import Dataset\n",
    "from torch.autograd    import Variable\n",
    "from torch.optim       import lr_scheduler\n",
    "\n",
    "from torch.utils.data  import Dataset, DataLoader\n",
    "from torch.utils.data.sampler import SubsetRandomSampler\n",
    "from torchvision       import transforms, datasets, models\n",
    "from os                import listdir, makedirs, getcwd, remove\n",
    "from os.path           import isfile, join, abspath, exists, isdir, expanduser"
   ]
  },
  {
   "cell_type": "code",
   "execution_count": 3,
   "metadata": {
    "execution": {
     "iopub.execute_input": "2024-05-19T03:42:47.616321Z",
     "iopub.status.busy": "2024-05-19T03:42:47.616018Z",
     "iopub.status.idle": "2024-05-19T03:42:47.620616Z",
     "shell.execute_reply": "2024-05-19T03:42:47.619713Z",
     "shell.execute_reply.started": "2024-05-19T03:42:47.616293Z"
    }
   },
   "outputs": [],
   "source": [
    "data_path = \"../input/ammi-2024-computer-vision/\""
   ]
  },
  {
   "cell_type": "code",
   "execution_count": 4,
   "metadata": {
    "execution": {
     "iopub.execute_input": "2024-05-19T03:42:47.622545Z",
     "iopub.status.busy": "2024-05-19T03:42:47.621839Z",
     "iopub.status.idle": "2024-05-19T03:42:47.675878Z",
     "shell.execute_reply": "2024-05-19T03:42:47.674898Z",
     "shell.execute_reply.started": "2024-05-19T03:42:47.622520Z"
    }
   },
   "outputs": [],
   "source": [
    "device = torch.device(\"cuda\" if torch.cuda.is_available() else \"cpu\")\n"
   ]
  },
  {
   "cell_type": "code",
   "execution_count": 5,
   "metadata": {
    "execution": {
     "iopub.execute_input": "2024-05-19T03:42:47.678819Z",
     "iopub.status.busy": "2024-05-19T03:42:47.678489Z",
     "iopub.status.idle": "2024-05-19T03:42:47.687187Z",
     "shell.execute_reply": "2024-05-19T03:42:47.686273Z",
     "shell.execute_reply.started": "2024-05-19T03:42:47.678792Z"
    }
   },
   "outputs": [],
   "source": [
    "train_path = \"/kaggle/input/ammi-2024-computer-vision/train/train\"\n",
    "test_path = \"/kaggle/input/ammi-2024-computer-vision/test/test\"\n",
    "# extraimage_path = join(data_path, \"extraimages/extraimages\")"
   ]
  },
  {
   "cell_type": "code",
   "execution_count": 6,
   "metadata": {
    "execution": {
     "iopub.execute_input": "2024-05-19T03:42:47.688732Z",
     "iopub.status.busy": "2024-05-19T03:42:47.688374Z",
     "iopub.status.idle": "2024-05-19T03:42:47.744015Z",
     "shell.execute_reply": "2024-05-19T03:42:47.743142Z",
     "shell.execute_reply.started": "2024-05-19T03:42:47.688700Z"
    }
   },
   "outputs": [],
   "source": [
    "# Transformations for both the training and testing data\n",
    "mean=[0.485, 0.456, 0.406]\n",
    "std=[0.229, 0.224, 0.225]\n",
    "\n",
    "# Do data transforms here, Try many others\n",
    "train_transforms = transforms.Compose([transforms.RandomRotation(30),\n",
    "                                       transforms.RandomResizedCrop(256),\n",
    "                                       transforms.RandomHorizontalFlip(),\n",
    "                                       transforms.ToTensor()])\n",
    "\n",
    "test_transforms = transforms.Compose([ transforms.Resize(255),\n",
    "                                       transforms.CenterCrop(256),\n",
    "                                       transforms.ToTensor()])\n",
    "\n",
    "normalize = transforms.Normalize(mean=mean, std=std)\n",
    "\n",
    "class CassavaDataset(Dataset):\n",
    "    def __init__(self, path, transform=None):\n",
    "        self.classes = os.listdir(path)\n",
    "        self.path = [f\"{path}/{className}\" for className in self.classes]\n",
    "        self.file_list = [glob.glob(f\"{x}/*\") for x in self.path]\n",
    "        self.transform = transform\n",
    "\n",
    "        files = []\n",
    "        for i, className in enumerate(self.classes):\n",
    "            for fileName in self.file_list[i]:\n",
    "                files.append([i, className, fileName])\n",
    "        self.file_list = files\n",
    "        files = None\n",
    "\n",
    "    def __len__(self):\n",
    "        return len(self.file_list)\n",
    "\n",
    "    def __getitem__(self, idx):\n",
    "        fileName = self.file_list[idx][2]\n",
    "        classCategory = self.file_list[idx][0]\n",
    "        im = Image.open(fileName)\n",
    "        if self.transform:\n",
    "            im = self.transform(im)\n",
    "            \n",
    "        return im.view(3, 256, 256), classCategory\n",
    "    \n",
    "train_data = CassavaDataset(train_path, transform=train_transforms)\n",
    "test_data = CassavaDataset(test_path, transform=test_transforms) \n",
    "\n",
    "\n",
    "validation_split = .2\n",
    "shuffle_dataset = True\n",
    "random_seed= 42\n",
    "\n",
    "# Creating data indices for training and validation splits:\n",
    "dataset_size = len(train_data)\n",
    "indices = list(range(dataset_size))\n",
    "split = int(np.floor(validation_split * dataset_size))\n",
    "\n",
    "if shuffle_dataset :\n",
    "    np.random.seed(random_seed)\n",
    "    np.random.shuffle(indices)\n",
    "\n",
    "train_indices, val_indices = indices[split:], indices[:split]\n",
    "\n",
    "\n",
    "# Creating PT data samplers and loaders:\n",
    "train_sampler = SubsetRandomSampler(train_indices)\n",
    "valid_sampler = SubsetRandomSampler(val_indices)\n",
    "\n",
    "\n",
    "train_set = torch.utils.data.DataLoader(train_data, batch_size=32,\n",
    "                                             sampler=train_sampler)\n",
    "test_set = torch.utils.data.DataLoader(train_data, batch_size=32,\n",
    "                                             sampler=valid_sampler)\n",
    "test_loader = torch.utils.data.DataLoader(test_data, batch_size=32)\n",
    "\n",
    "train_len = len(train_set)*32\n",
    "valid_len = len(test_set)*32"
   ]
  },
  {
   "cell_type": "code",
   "execution_count": 7,
   "metadata": {
    "execution": {
     "iopub.execute_input": "2024-05-19T03:42:47.745441Z",
     "iopub.status.busy": "2024-05-19T03:42:47.745103Z",
     "iopub.status.idle": "2024-05-19T03:42:47.749475Z",
     "shell.execute_reply": "2024-05-19T03:42:47.748548Z",
     "shell.execute_reply.started": "2024-05-19T03:42:47.745398Z"
    }
   },
   "outputs": [],
   "source": [
    "# for class_name, class_index in train_data.class_to_idx.items():\n",
    "#     print(f\"Class: {class_name}, Label: {class_index}\")"
   ]
  },
  {
   "cell_type": "code",
   "execution_count": 8,
   "metadata": {
    "execution": {
     "iopub.execute_input": "2024-05-19T03:42:47.751479Z",
     "iopub.status.busy": "2024-05-19T03:42:47.750725Z",
     "iopub.status.idle": "2024-05-19T03:42:47.759356Z",
     "shell.execute_reply": "2024-05-19T03:42:47.758614Z",
     "shell.execute_reply.started": "2024-05-19T03:42:47.751452Z"
    }
   },
   "outputs": [],
   "source": [
    "class Classifier(nn.Module):\n",
    "    def __init__(self, num_classes, weights=models.ResNet34_Weights.DEFAULT):\n",
    "        super().__init__()\n",
    "        \n",
    "        # Load the pre-trained ResNet34 model\n",
    "        self.resnet = models.resnet34(weights=weights)\n",
    "        \n",
    "        # Modify the final fully connected layer to match the number of classes\n",
    "        num_ftrs = self.resnet.fc.in_features\n",
    "        self.resnet.fc = nn.Linear(num_ftrs, num_classes)\n",
    "    \n",
    "    def forward(self, x):\n",
    "        return self.resnet(x)\n",
    "\n",
    "# Example usage:"
   ]
  },
  {
   "cell_type": "code",
   "execution_count": 9,
   "metadata": {
    "execution": {
     "iopub.execute_input": "2024-05-19T03:42:47.760586Z",
     "iopub.status.busy": "2024-05-19T03:42:47.760296Z",
     "iopub.status.idle": "2024-05-19T03:42:48.255483Z",
     "shell.execute_reply": "2024-05-19T03:42:48.254464Z",
     "shell.execute_reply.started": "2024-05-19T03:42:47.760541Z"
    }
   },
   "outputs": [
    {
     "name": "stdout",
     "output_type": "stream",
     "text": [
      "Classifier(\n",
      "  (resnet): ResNet(\n",
      "    (conv1): Conv2d(3, 64, kernel_size=(7, 7), stride=(2, 2), padding=(3, 3), bias=False)\n",
      "    (bn1): BatchNorm2d(64, eps=1e-05, momentum=0.1, affine=True, track_running_stats=True)\n",
      "    (relu): ReLU(inplace=True)\n",
      "    (maxpool): MaxPool2d(kernel_size=3, stride=2, padding=1, dilation=1, ceil_mode=False)\n",
      "    (layer1): Sequential(\n",
      "      (0): BasicBlock(\n",
      "        (conv1): Conv2d(64, 64, kernel_size=(3, 3), stride=(1, 1), padding=(1, 1), bias=False)\n",
      "        (bn1): BatchNorm2d(64, eps=1e-05, momentum=0.1, affine=True, track_running_stats=True)\n",
      "        (relu): ReLU(inplace=True)\n",
      "        (conv2): Conv2d(64, 64, kernel_size=(3, 3), stride=(1, 1), padding=(1, 1), bias=False)\n",
      "        (bn2): BatchNorm2d(64, eps=1e-05, momentum=0.1, affine=True, track_running_stats=True)\n",
      "      )\n",
      "      (1): BasicBlock(\n",
      "        (conv1): Conv2d(64, 64, kernel_size=(3, 3), stride=(1, 1), padding=(1, 1), bias=False)\n",
      "        (bn1): BatchNorm2d(64, eps=1e-05, momentum=0.1, affine=True, track_running_stats=True)\n",
      "        (relu): ReLU(inplace=True)\n",
      "        (conv2): Conv2d(64, 64, kernel_size=(3, 3), stride=(1, 1), padding=(1, 1), bias=False)\n",
      "        (bn2): BatchNorm2d(64, eps=1e-05, momentum=0.1, affine=True, track_running_stats=True)\n",
      "      )\n",
      "      (2): BasicBlock(\n",
      "        (conv1): Conv2d(64, 64, kernel_size=(3, 3), stride=(1, 1), padding=(1, 1), bias=False)\n",
      "        (bn1): BatchNorm2d(64, eps=1e-05, momentum=0.1, affine=True, track_running_stats=True)\n",
      "        (relu): ReLU(inplace=True)\n",
      "        (conv2): Conv2d(64, 64, kernel_size=(3, 3), stride=(1, 1), padding=(1, 1), bias=False)\n",
      "        (bn2): BatchNorm2d(64, eps=1e-05, momentum=0.1, affine=True, track_running_stats=True)\n",
      "      )\n",
      "    )\n",
      "    (layer2): Sequential(\n",
      "      (0): BasicBlock(\n",
      "        (conv1): Conv2d(64, 128, kernel_size=(3, 3), stride=(2, 2), padding=(1, 1), bias=False)\n",
      "        (bn1): BatchNorm2d(128, eps=1e-05, momentum=0.1, affine=True, track_running_stats=True)\n",
      "        (relu): ReLU(inplace=True)\n",
      "        (conv2): Conv2d(128, 128, kernel_size=(3, 3), stride=(1, 1), padding=(1, 1), bias=False)\n",
      "        (bn2): BatchNorm2d(128, eps=1e-05, momentum=0.1, affine=True, track_running_stats=True)\n",
      "        (downsample): Sequential(\n",
      "          (0): Conv2d(64, 128, kernel_size=(1, 1), stride=(2, 2), bias=False)\n",
      "          (1): BatchNorm2d(128, eps=1e-05, momentum=0.1, affine=True, track_running_stats=True)\n",
      "        )\n",
      "      )\n",
      "      (1): BasicBlock(\n",
      "        (conv1): Conv2d(128, 128, kernel_size=(3, 3), stride=(1, 1), padding=(1, 1), bias=False)\n",
      "        (bn1): BatchNorm2d(128, eps=1e-05, momentum=0.1, affine=True, track_running_stats=True)\n",
      "        (relu): ReLU(inplace=True)\n",
      "        (conv2): Conv2d(128, 128, kernel_size=(3, 3), stride=(1, 1), padding=(1, 1), bias=False)\n",
      "        (bn2): BatchNorm2d(128, eps=1e-05, momentum=0.1, affine=True, track_running_stats=True)\n",
      "      )\n",
      "      (2): BasicBlock(\n",
      "        (conv1): Conv2d(128, 128, kernel_size=(3, 3), stride=(1, 1), padding=(1, 1), bias=False)\n",
      "        (bn1): BatchNorm2d(128, eps=1e-05, momentum=0.1, affine=True, track_running_stats=True)\n",
      "        (relu): ReLU(inplace=True)\n",
      "        (conv2): Conv2d(128, 128, kernel_size=(3, 3), stride=(1, 1), padding=(1, 1), bias=False)\n",
      "        (bn2): BatchNorm2d(128, eps=1e-05, momentum=0.1, affine=True, track_running_stats=True)\n",
      "      )\n",
      "      (3): BasicBlock(\n",
      "        (conv1): Conv2d(128, 128, kernel_size=(3, 3), stride=(1, 1), padding=(1, 1), bias=False)\n",
      "        (bn1): BatchNorm2d(128, eps=1e-05, momentum=0.1, affine=True, track_running_stats=True)\n",
      "        (relu): ReLU(inplace=True)\n",
      "        (conv2): Conv2d(128, 128, kernel_size=(3, 3), stride=(1, 1), padding=(1, 1), bias=False)\n",
      "        (bn2): BatchNorm2d(128, eps=1e-05, momentum=0.1, affine=True, track_running_stats=True)\n",
      "      )\n",
      "    )\n",
      "    (layer3): Sequential(\n",
      "      (0): BasicBlock(\n",
      "        (conv1): Conv2d(128, 256, kernel_size=(3, 3), stride=(2, 2), padding=(1, 1), bias=False)\n",
      "        (bn1): BatchNorm2d(256, eps=1e-05, momentum=0.1, affine=True, track_running_stats=True)\n",
      "        (relu): ReLU(inplace=True)\n",
      "        (conv2): Conv2d(256, 256, kernel_size=(3, 3), stride=(1, 1), padding=(1, 1), bias=False)\n",
      "        (bn2): BatchNorm2d(256, eps=1e-05, momentum=0.1, affine=True, track_running_stats=True)\n",
      "        (downsample): Sequential(\n",
      "          (0): Conv2d(128, 256, kernel_size=(1, 1), stride=(2, 2), bias=False)\n",
      "          (1): BatchNorm2d(256, eps=1e-05, momentum=0.1, affine=True, track_running_stats=True)\n",
      "        )\n",
      "      )\n",
      "      (1): BasicBlock(\n",
      "        (conv1): Conv2d(256, 256, kernel_size=(3, 3), stride=(1, 1), padding=(1, 1), bias=False)\n",
      "        (bn1): BatchNorm2d(256, eps=1e-05, momentum=0.1, affine=True, track_running_stats=True)\n",
      "        (relu): ReLU(inplace=True)\n",
      "        (conv2): Conv2d(256, 256, kernel_size=(3, 3), stride=(1, 1), padding=(1, 1), bias=False)\n",
      "        (bn2): BatchNorm2d(256, eps=1e-05, momentum=0.1, affine=True, track_running_stats=True)\n",
      "      )\n",
      "      (2): BasicBlock(\n",
      "        (conv1): Conv2d(256, 256, kernel_size=(3, 3), stride=(1, 1), padding=(1, 1), bias=False)\n",
      "        (bn1): BatchNorm2d(256, eps=1e-05, momentum=0.1, affine=True, track_running_stats=True)\n",
      "        (relu): ReLU(inplace=True)\n",
      "        (conv2): Conv2d(256, 256, kernel_size=(3, 3), stride=(1, 1), padding=(1, 1), bias=False)\n",
      "        (bn2): BatchNorm2d(256, eps=1e-05, momentum=0.1, affine=True, track_running_stats=True)\n",
      "      )\n",
      "      (3): BasicBlock(\n",
      "        (conv1): Conv2d(256, 256, kernel_size=(3, 3), stride=(1, 1), padding=(1, 1), bias=False)\n",
      "        (bn1): BatchNorm2d(256, eps=1e-05, momentum=0.1, affine=True, track_running_stats=True)\n",
      "        (relu): ReLU(inplace=True)\n",
      "        (conv2): Conv2d(256, 256, kernel_size=(3, 3), stride=(1, 1), padding=(1, 1), bias=False)\n",
      "        (bn2): BatchNorm2d(256, eps=1e-05, momentum=0.1, affine=True, track_running_stats=True)\n",
      "      )\n",
      "      (4): BasicBlock(\n",
      "        (conv1): Conv2d(256, 256, kernel_size=(3, 3), stride=(1, 1), padding=(1, 1), bias=False)\n",
      "        (bn1): BatchNorm2d(256, eps=1e-05, momentum=0.1, affine=True, track_running_stats=True)\n",
      "        (relu): ReLU(inplace=True)\n",
      "        (conv2): Conv2d(256, 256, kernel_size=(3, 3), stride=(1, 1), padding=(1, 1), bias=False)\n",
      "        (bn2): BatchNorm2d(256, eps=1e-05, momentum=0.1, affine=True, track_running_stats=True)\n",
      "      )\n",
      "      (5): BasicBlock(\n",
      "        (conv1): Conv2d(256, 256, kernel_size=(3, 3), stride=(1, 1), padding=(1, 1), bias=False)\n",
      "        (bn1): BatchNorm2d(256, eps=1e-05, momentum=0.1, affine=True, track_running_stats=True)\n",
      "        (relu): ReLU(inplace=True)\n",
      "        (conv2): Conv2d(256, 256, kernel_size=(3, 3), stride=(1, 1), padding=(1, 1), bias=False)\n",
      "        (bn2): BatchNorm2d(256, eps=1e-05, momentum=0.1, affine=True, track_running_stats=True)\n",
      "      )\n",
      "    )\n",
      "    (layer4): Sequential(\n",
      "      (0): BasicBlock(\n",
      "        (conv1): Conv2d(256, 512, kernel_size=(3, 3), stride=(2, 2), padding=(1, 1), bias=False)\n",
      "        (bn1): BatchNorm2d(512, eps=1e-05, momentum=0.1, affine=True, track_running_stats=True)\n",
      "        (relu): ReLU(inplace=True)\n",
      "        (conv2): Conv2d(512, 512, kernel_size=(3, 3), stride=(1, 1), padding=(1, 1), bias=False)\n",
      "        (bn2): BatchNorm2d(512, eps=1e-05, momentum=0.1, affine=True, track_running_stats=True)\n",
      "        (downsample): Sequential(\n",
      "          (0): Conv2d(256, 512, kernel_size=(1, 1), stride=(2, 2), bias=False)\n",
      "          (1): BatchNorm2d(512, eps=1e-05, momentum=0.1, affine=True, track_running_stats=True)\n",
      "        )\n",
      "      )\n",
      "      (1): BasicBlock(\n",
      "        (conv1): Conv2d(512, 512, kernel_size=(3, 3), stride=(1, 1), padding=(1, 1), bias=False)\n",
      "        (bn1): BatchNorm2d(512, eps=1e-05, momentum=0.1, affine=True, track_running_stats=True)\n",
      "        (relu): ReLU(inplace=True)\n",
      "        (conv2): Conv2d(512, 512, kernel_size=(3, 3), stride=(1, 1), padding=(1, 1), bias=False)\n",
      "        (bn2): BatchNorm2d(512, eps=1e-05, momentum=0.1, affine=True, track_running_stats=True)\n",
      "      )\n",
      "      (2): BasicBlock(\n",
      "        (conv1): Conv2d(512, 512, kernel_size=(3, 3), stride=(1, 1), padding=(1, 1), bias=False)\n",
      "        (bn1): BatchNorm2d(512, eps=1e-05, momentum=0.1, affine=True, track_running_stats=True)\n",
      "        (relu): ReLU(inplace=True)\n",
      "        (conv2): Conv2d(512, 512, kernel_size=(3, 3), stride=(1, 1), padding=(1, 1), bias=False)\n",
      "        (bn2): BatchNorm2d(512, eps=1e-05, momentum=0.1, affine=True, track_running_stats=True)\n",
      "      )\n",
      "    )\n",
      "    (avgpool): AdaptiveAvgPool2d(output_size=(1, 1))\n",
      "    (fc): Linear(in_features=512, out_features=5, bias=True)\n",
      "  )\n",
      ")\n"
     ]
    }
   ],
   "source": [
    "num_classes = 5\n",
    "model = Classifier(num_classes)\n",
    "print(model)"
   ]
  },
  {
   "cell_type": "code",
   "execution_count": 10,
   "metadata": {
    "execution": {
     "iopub.execute_input": "2024-05-19T03:42:48.257139Z",
     "iopub.status.busy": "2024-05-19T03:42:48.256842Z",
     "iopub.status.idle": "2024-05-19T03:42:48.262506Z",
     "shell.execute_reply": "2024-05-19T03:42:48.261614Z",
     "shell.execute_reply.started": "2024-05-19T03:42:48.257114Z"
    }
   },
   "outputs": [],
   "source": [
    "criterion = nn.CrossEntropyLoss()\n",
    "optimizer = torch.optim.SGD(model.parameters(),lr = 0.001,momentum= 0.9)"
   ]
  },
  {
   "cell_type": "code",
   "execution_count": 11,
   "metadata": {
    "execution": {
     "iopub.execute_input": "2024-05-19T03:42:48.264075Z",
     "iopub.status.busy": "2024-05-19T03:42:48.263747Z",
     "iopub.status.idle": "2024-05-19T03:42:48.274608Z",
     "shell.execute_reply": "2024-05-19T03:42:48.273715Z",
     "shell.execute_reply.started": "2024-05-19T03:42:48.264044Z"
    }
   },
   "outputs": [],
   "source": [
    "def train(model, criterion, data_loader1, optimizer, num_epochs):\n",
    "    \"\"\"Simple training loop for a PyTorch model.\"\"\" \n",
    "    model = model.to(device)\n",
    "    # Make sure model is in training mode.\n",
    "    #model.train()\n",
    "\n",
    "    model.train()\n",
    "    for epoch in range(num_epochs):\n",
    "        total_correct = 0\n",
    "        running_loss = 0\n",
    "\n",
    "        # Training step\n",
    "        for i, (inputs, labels) in enumerate(data_loader1):\n",
    "            inputs , labels  = inputs.to(device),labels.to(device)\n",
    "\n",
    "            output = model(inputs)\n",
    "            #print(output.logits)\n",
    "            output_idx = torch.argmax(output,dim =-1)\n",
    "            total_correct +=(labels==output_idx).sum().item()\n",
    "            optimizer.zero_grad()\n",
    "            loss = criterion(output, labels)\n",
    "            running_loss+=loss.item()*inputs.size(0)\n",
    "            loss.backward()\n",
    "            optimizer.step()\n",
    "\n",
    "        # Print out progress at the end of epoch.\n",
    "        print(f\"Epoch {epoch}, Train Loss: {running_loss/train_len}, Accuracy: {(total_correct/train_len)*100}%\")\n",
    "    print(\"Finished Training\")\n",
    "    \n",
    "    "
   ]
  },
  {
   "cell_type": "code",
   "execution_count": 12,
   "metadata": {
    "execution": {
     "iopub.execute_input": "2024-05-19T03:42:48.276152Z",
     "iopub.status.busy": "2024-05-19T03:42:48.275819Z",
     "iopub.status.idle": "2024-05-19T03:42:48.288811Z",
     "shell.execute_reply": "2024-05-19T03:42:48.288014Z",
     "shell.execute_reply.started": "2024-05-19T03:42:48.276103Z"
    }
   },
   "outputs": [],
   "source": [
    "def test(model, test_set):\n",
    "\n",
    "    with torch.no_grad():\n",
    "        model.eval()\n",
    "        total_loss = 0\n",
    "        total_correct = 0\n",
    "\n",
    "        # Testing step\n",
    "        for inputs, labels in test_set:\n",
    "            inputs , labels  = inputs.to(device),labels.to(device)\n",
    "\n",
    "            outputs = model(inputs)\n",
    "            loss = criterion(outputs, labels)\n",
    "            total_loss +=loss.item()*inputs.size(0)\n",
    "            output_idx = torch.argmax(outputs,dim =-1)\n",
    "            total_correct +=(labels==output_idx).sum().item()\n",
    "\n",
    "        print(f\"Accuracy: {(total_correct/valid_len)*100}%  Loss: {total_loss/valid_len}\")\n",
    "\n",
    "    "
   ]
  },
  {
   "cell_type": "code",
   "execution_count": 13,
   "metadata": {
    "execution": {
     "iopub.execute_input": "2024-05-19T03:42:48.290794Z",
     "iopub.status.busy": "2024-05-19T03:42:48.289753Z",
     "iopub.status.idle": "2024-05-19T03:57:49.052277Z",
     "shell.execute_reply": "2024-05-19T03:57:49.051332Z",
     "shell.execute_reply.started": "2024-05-19T03:42:48.290770Z"
    }
   },
   "outputs": [
    {
     "name": "stdout",
     "output_type": "stream",
     "text": [
      "Epoch 0, Train Loss: 0.9164800608373234, Accuracy: 66.0431338028169%\n",
      "Epoch 1, Train Loss: 0.6064402591437101, Accuracy: 77.90492957746478%\n",
      "Epoch 2, Train Loss: 0.5336879730670595, Accuracy: 80.65580985915493%\n",
      "Epoch 3, Train Loss: 0.5028285510037881, Accuracy: 81.73415492957746%\n",
      "Epoch 4, Train Loss: 0.462710023565795, Accuracy: 83.82482394366197%\n",
      "Epoch 5, Train Loss: 0.43134583914521296, Accuracy: 84.59507042253522%\n",
      "Epoch 6, Train Loss: 0.40610986995235293, Accuracy: 85.49735915492957%\n",
      "Epoch 7, Train Loss: 0.38280321335629885, Accuracy: 86.0475352112676%\n",
      "Epoch 8, Train Loss: 0.3801515664328152, Accuracy: 86.28961267605634%\n",
      "Epoch 9, Train Loss: 0.34229232717803876, Accuracy: 87.36795774647888%\n",
      "Epoch 10, Train Loss: 0.3447133502332677, Accuracy: 87.89612676056338%\n",
      "Epoch 11, Train Loss: 0.3181422101071393, Accuracy: 88.49031690140845%\n",
      "Epoch 12, Train Loss: 0.3145229664490178, Accuracy: 88.93045774647888%\n",
      "Epoch 13, Train Loss: 0.3122877715808064, Accuracy: 88.35827464788733%\n",
      "Epoch 14, Train Loss: 0.2861103432885909, Accuracy: 89.72271126760563%\n",
      "Epoch 15, Train Loss: 0.2892236866345498, Accuracy: 89.30457746478874%\n",
      "Epoch 16, Train Loss: 0.27099206280389565, Accuracy: 89.63468309859155%\n",
      "Epoch 17, Train Loss: 0.26397865301024326, Accuracy: 90.40492957746478%\n",
      "Epoch 18, Train Loss: 0.2687022156921596, Accuracy: 89.67869718309859%\n",
      "Epoch 19, Train Loss: 0.24782665760230116, Accuracy: 90.91109154929578%\n",
      "Finished Training\n"
     ]
    }
   ],
   "source": [
    "num_epochs = 20\n",
    "train(model, criterion, train_set, optimizer, num_epochs=num_epochs)\n",
    "\n",
    "\n"
   ]
  },
  {
   "cell_type": "code",
   "execution_count": 14,
   "metadata": {
    "execution": {
     "iopub.execute_input": "2024-05-19T03:57:49.055897Z",
     "iopub.status.busy": "2024-05-19T03:57:49.055563Z",
     "iopub.status.idle": "2024-05-19T03:58:00.836291Z",
     "shell.execute_reply": "2024-05-19T03:58:00.835352Z",
     "shell.execute_reply.started": "2024-05-19T03:57:49.055870Z"
    }
   },
   "outputs": [
    {
     "name": "stdout",
     "output_type": "stream",
     "text": [
      "Accuracy: 84.11458333333334%  Loss: 0.4589951702704032\n"
     ]
    }
   ],
   "source": [
    "test(model,test_set)\n"
   ]
  },
  {
   "cell_type": "code",
   "execution_count": 15,
   "metadata": {
    "execution": {
     "iopub.execute_input": "2024-05-19T03:58:00.837790Z",
     "iopub.status.busy": "2024-05-19T03:58:00.837473Z",
     "iopub.status.idle": "2024-05-19T03:58:00.844762Z",
     "shell.execute_reply": "2024-05-19T03:58:00.843752Z",
     "shell.execute_reply.started": "2024-05-19T03:58:00.837762Z"
    }
   },
   "outputs": [
    {
     "data": {
      "text/plain": [
       "['cmd', 'cbb', 'cbsd', 'healthy', 'cgm']"
      ]
     },
     "execution_count": 15,
     "metadata": {},
     "output_type": "execute_result"
    }
   ],
   "source": [
    "train_data.classes"
   ]
  },
  {
   "cell_type": "code",
   "execution_count": 16,
   "metadata": {
    "execution": {
     "iopub.execute_input": "2024-05-19T03:58:00.846190Z",
     "iopub.status.busy": "2024-05-19T03:58:00.845936Z",
     "iopub.status.idle": "2024-05-19T03:58:40.798804Z",
     "shell.execute_reply": "2024-05-19T03:58:40.797643Z",
     "shell.execute_reply.started": "2024-05-19T03:58:00.846167Z"
    }
   },
   "outputs": [
    {
     "data": {
      "text/html": [
       "<div>\n",
       "<style scoped>\n",
       "    .dataframe tbody tr th:only-of-type {\n",
       "        vertical-align: middle;\n",
       "    }\n",
       "\n",
       "    .dataframe tbody tr th {\n",
       "        vertical-align: top;\n",
       "    }\n",
       "\n",
       "    .dataframe thead th {\n",
       "        text-align: right;\n",
       "    }\n",
       "</style>\n",
       "<table border=\"1\" class=\"dataframe\">\n",
       "  <thead>\n",
       "    <tr style=\"text-align: right;\">\n",
       "      <th></th>\n",
       "      <th>Category</th>\n",
       "      <th>Id</th>\n",
       "    </tr>\n",
       "  </thead>\n",
       "  <tbody>\n",
       "    <tr>\n",
       "      <th>0</th>\n",
       "      <td>cgm</td>\n",
       "      <td>test-img-1448.jpg</td>\n",
       "    </tr>\n",
       "    <tr>\n",
       "      <th>1</th>\n",
       "      <td>cmd</td>\n",
       "      <td>test-img-768.jpg</td>\n",
       "    </tr>\n",
       "    <tr>\n",
       "      <th>2</th>\n",
       "      <td>cmd</td>\n",
       "      <td>test-img-3481.jpg</td>\n",
       "    </tr>\n",
       "    <tr>\n",
       "      <th>3</th>\n",
       "      <td>cmd</td>\n",
       "      <td>test-img-1475.jpg</td>\n",
       "    </tr>\n",
       "    <tr>\n",
       "      <th>4</th>\n",
       "      <td>cgm</td>\n",
       "      <td>test-img-2498.jpg</td>\n",
       "    </tr>\n",
       "  </tbody>\n",
       "</table>\n",
       "</div>"
      ],
      "text/plain": [
       "  Category                 Id\n",
       "0      cgm  test-img-1448.jpg\n",
       "1      cmd   test-img-768.jpg\n",
       "2      cmd  test-img-3481.jpg\n",
       "3      cmd  test-img-1475.jpg\n",
       "4      cgm  test-img-2498.jpg"
      ]
     },
     "execution_count": 16,
     "metadata": {},
     "output_type": "execute_result"
    }
   ],
   "source": [
    "# Make submission here\n",
    "sample_path = \"/kaggle/input/ammi-2024-computer-vision/sample_submission_file.csv\"\n",
    "import pandas as pd\n",
    "\n",
    "def test_mode(model, data_loader):\n",
    "    \"\"\"Measures the accuracy of a model on a data set.\"\"\" \n",
    "    # Make sure the model is in evaluation mode.\n",
    "    preds = []\n",
    "    model.eval()\n",
    "    # We do not need to maintain intermediate activations while testing.\n",
    "    with torch.no_grad():\n",
    "        \n",
    "        # Loop over test data.\n",
    "        for features, _ in data_loader:\n",
    "          \n",
    "            # Forward pass.\n",
    "            output = model(features.to(device))\n",
    "            \n",
    "            # Get the label corresponding to the highest predicted probability.\n",
    "            pred = output.argmax(dim=1, keepdim=True)\n",
    "            preds.append(pred.cpu().data.numpy())\n",
    "            \n",
    "    return preds\n",
    "\n",
    "preds = test_mode(model, test_loader)\n",
    "preds = [item.item() for sublist in preds for item in sublist]\n",
    "\n",
    "# Extract filenames from the ImageFolder object\n",
    "name = [os.path.basename(img_path) for _, _, img_path in test_data.file_list]\n",
    "sample = pd.read_csv(sample_path)\n",
    "mapping = {0: 'cmd', 1: 'cbb', 2: 'cbsd', 3: 'healthy', 4: 'cgm'}\n",
    "new_preds = [mapping[pred] for pred in preds]\n",
    "sample['Category'] = name\n",
    "sample['Id'] = new_preds\n",
    "sample[\"Category\"],sample[\"Id\"] = sample[\"Id\"],sample[\"Category\"]\n",
    "\n",
    "\n",
    "sample.to_csv('submission6.csv', index=False)\n",
    "sample.head()"
   ]
  },
  {
   "cell_type": "code",
   "execution_count": 17,
   "metadata": {
    "execution": {
     "iopub.execute_input": "2024-05-19T03:58:40.800449Z",
     "iopub.status.busy": "2024-05-19T03:58:40.800083Z",
     "iopub.status.idle": "2024-05-19T03:58:40.806870Z",
     "shell.execute_reply": "2024-05-19T03:58:40.805879Z",
     "shell.execute_reply.started": "2024-05-19T03:58:40.800414Z"
    }
   },
   "outputs": [],
   "source": [
    "# sample_path =\"/kaggle/input/ammi-2024-computer-vision/sample_submission_file.csv\"\n",
    "# #sample_path = os.path.join(sample_path, \"sample_submission_file.csv\")\n",
    "# import pandas as pd\n",
    "# from tqdm import tqdm\n",
    "# def predict(model, loader):\n",
    "#     test_dataloader = loader\n",
    "#     preds = []\n",
    "\n",
    "#     for test_images, _ in tqdm(test_dataloader):\n",
    "#         test_images = test_images.to(device)\n",
    "#         #test_labels = test_labels.to(device)\n",
    "\n",
    "#         output = model(test_images)\n",
    "\n",
    "#         _, predicted = torch.max(output, 1)\n",
    "#         preds.extend(predicted.cpu().data.numpy())\n",
    "\n",
    "\n",
    "#     return preds\n",
    "\n",
    "# name = [test_data.file_list[i][-1].split('/')[-1] for i in range(len(test_data.file_list)) ]\n",
    "# sample = pd.read_csv(sample_path)\n",
    "# sample['Id'] = name\n",
    "# preds = predict(model, test_loader)\n",
    "# mapping = {0: 'cgm', 1: 'cmd', 2: 'healthy', 3: 'cbb', 4: 'cbsd'}\n",
    "# new_preds = [mapping[pred] for pred in preds]\n",
    "# sample['Category'] = new_preds\n",
    "# sample.to_csv('submission_resnet34.csv', index=False)\n",
    "# sample.head()"
   ]
  },
  {
   "cell_type": "code",
   "execution_count": 18,
   "metadata": {
    "execution": {
     "iopub.execute_input": "2024-05-19T03:58:40.808258Z",
     "iopub.status.busy": "2024-05-19T03:58:40.807982Z",
     "iopub.status.idle": "2024-05-19T03:58:40.822264Z",
     "shell.execute_reply": "2024-05-19T03:58:40.821383Z",
     "shell.execute_reply.started": "2024-05-19T03:58:40.808235Z"
    }
   },
   "outputs": [
    {
     "data": {
      "text/plain": [
       "256"
      ]
     },
     "execution_count": 18,
     "metadata": {},
     "output_type": "execute_result"
    }
   ],
   "source": [
    "2**8"
   ]
  },
  {
   "cell_type": "code",
   "execution_count": null,
   "metadata": {},
   "outputs": [],
   "source": []
  }
 ],
 "metadata": {
  "kaggle": {
   "accelerator": "nvidiaTeslaT4",
   "dataSources": [
    {
     "databundleVersionId": 8400328,
     "sourceId": 77142,
     "sourceType": "competition"
    }
   ],
   "dockerImageVersionId": 30699,
   "isGpuEnabled": true,
   "isInternetEnabled": true,
   "language": "python",
   "sourceType": "notebook"
  },
  "kernelspec": {
   "display_name": "Python 3 (ipykernel)",
   "language": "python",
   "name": "python3"
  },
  "language_info": {
   "codemirror_mode": {
    "name": "ipython",
    "version": 3
   },
   "file_extension": ".py",
   "mimetype": "text/x-python",
   "name": "python",
   "nbconvert_exporter": "python",
   "pygments_lexer": "ipython3",
   "version": "3.11.5"
  }
 },
 "nbformat": 4,
 "nbformat_minor": 4
}
